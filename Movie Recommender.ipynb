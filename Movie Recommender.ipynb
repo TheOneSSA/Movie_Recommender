{
 "cells": [
  {
   "cell_type": "code",
   "execution_count": 1,
   "metadata": {},
   "outputs": [],
   "source": [
    "#importing libraries\n",
    "\n",
    "import numpy as np\n",
    "import pandas as pd\n",
    "from sklearn.feature_extraction.text import TfidfVectorizer\n",
    "from sklearn.metrics.pairwise import linear_kernel\n",
    "import sklearn.preprocessing as pp\n",
    "import scipy.sparse\n",
    "import warnings\n",
    "\n",
    "warnings.filterwarnings(\"ignore\")"
   ]
  },
  {
   "cell_type": "markdown",
   "metadata": {},
   "source": [
    "## Data Preparation"
   ]
  },
  {
   "cell_type": "code",
   "execution_count": 2,
   "metadata": {},
   "outputs": [
    {
     "name": "stdout",
     "output_type": "stream",
     "text": [
      "(85855, 22)\n"
     ]
    },
    {
     "data": {
      "text/html": [
       "<div>\n",
       "<style scoped>\n",
       "    .dataframe tbody tr th:only-of-type {\n",
       "        vertical-align: middle;\n",
       "    }\n",
       "\n",
       "    .dataframe tbody tr th {\n",
       "        vertical-align: top;\n",
       "    }\n",
       "\n",
       "    .dataframe thead th {\n",
       "        text-align: right;\n",
       "    }\n",
       "</style>\n",
       "<table border=\"1\" class=\"dataframe\">\n",
       "  <thead>\n",
       "    <tr style=\"text-align: right;\">\n",
       "      <th></th>\n",
       "      <th>imdb_title_id</th>\n",
       "      <th>title</th>\n",
       "      <th>original_title</th>\n",
       "      <th>year</th>\n",
       "      <th>date_published</th>\n",
       "      <th>genre</th>\n",
       "      <th>duration</th>\n",
       "      <th>country</th>\n",
       "      <th>language</th>\n",
       "      <th>director</th>\n",
       "      <th>...</th>\n",
       "      <th>actors</th>\n",
       "      <th>description</th>\n",
       "      <th>avg_vote</th>\n",
       "      <th>votes</th>\n",
       "      <th>budget</th>\n",
       "      <th>usa_gross_income</th>\n",
       "      <th>worlwide_gross_income</th>\n",
       "      <th>metascore</th>\n",
       "      <th>reviews_from_users</th>\n",
       "      <th>reviews_from_critics</th>\n",
       "    </tr>\n",
       "  </thead>\n",
       "  <tbody>\n",
       "    <tr>\n",
       "      <th>0</th>\n",
       "      <td>tt0000009</td>\n",
       "      <td>Miss Jerry</td>\n",
       "      <td>Miss Jerry</td>\n",
       "      <td>1894</td>\n",
       "      <td>1894-10-09</td>\n",
       "      <td>Romance</td>\n",
       "      <td>45</td>\n",
       "      <td>USA</td>\n",
       "      <td>None</td>\n",
       "      <td>Alexander Black</td>\n",
       "      <td>...</td>\n",
       "      <td>Blanche Bayliss, William Courtenay, Chauncey D...</td>\n",
       "      <td>The adventures of a female reporter in the 1890s.</td>\n",
       "      <td>5.9</td>\n",
       "      <td>154</td>\n",
       "      <td>NaN</td>\n",
       "      <td>NaN</td>\n",
       "      <td>NaN</td>\n",
       "      <td>NaN</td>\n",
       "      <td>1.0</td>\n",
       "      <td>2.0</td>\n",
       "    </tr>\n",
       "    <tr>\n",
       "      <th>1</th>\n",
       "      <td>tt0000574</td>\n",
       "      <td>The Story of the Kelly Gang</td>\n",
       "      <td>The Story of the Kelly Gang</td>\n",
       "      <td>1906</td>\n",
       "      <td>1906-12-26</td>\n",
       "      <td>Biography, Crime, Drama</td>\n",
       "      <td>70</td>\n",
       "      <td>Australia</td>\n",
       "      <td>None</td>\n",
       "      <td>Charles Tait</td>\n",
       "      <td>...</td>\n",
       "      <td>Elizabeth Tait, John Tait, Norman Campbell, Be...</td>\n",
       "      <td>True story of notorious Australian outlaw Ned ...</td>\n",
       "      <td>6.1</td>\n",
       "      <td>589</td>\n",
       "      <td>$ 2250</td>\n",
       "      <td>NaN</td>\n",
       "      <td>NaN</td>\n",
       "      <td>NaN</td>\n",
       "      <td>7.0</td>\n",
       "      <td>7.0</td>\n",
       "    </tr>\n",
       "    <tr>\n",
       "      <th>2</th>\n",
       "      <td>tt0001892</td>\n",
       "      <td>Den sorte drøm</td>\n",
       "      <td>Den sorte drøm</td>\n",
       "      <td>1911</td>\n",
       "      <td>1911-08-19</td>\n",
       "      <td>Drama</td>\n",
       "      <td>53</td>\n",
       "      <td>Germany, Denmark</td>\n",
       "      <td>NaN</td>\n",
       "      <td>Urban Gad</td>\n",
       "      <td>...</td>\n",
       "      <td>Asta Nielsen, Valdemar Psilander, Gunnar Helse...</td>\n",
       "      <td>Two men of high rank are both wooing the beaut...</td>\n",
       "      <td>5.8</td>\n",
       "      <td>188</td>\n",
       "      <td>NaN</td>\n",
       "      <td>NaN</td>\n",
       "      <td>NaN</td>\n",
       "      <td>NaN</td>\n",
       "      <td>5.0</td>\n",
       "      <td>2.0</td>\n",
       "    </tr>\n",
       "    <tr>\n",
       "      <th>3</th>\n",
       "      <td>tt0002101</td>\n",
       "      <td>Cleopatra</td>\n",
       "      <td>Cleopatra</td>\n",
       "      <td>1912</td>\n",
       "      <td>1912-11-13</td>\n",
       "      <td>Drama, History</td>\n",
       "      <td>100</td>\n",
       "      <td>USA</td>\n",
       "      <td>English</td>\n",
       "      <td>Charles L. Gaskill</td>\n",
       "      <td>...</td>\n",
       "      <td>Helen Gardner, Pearl Sindelar, Miss Fielding, ...</td>\n",
       "      <td>The fabled queen of Egypt's affair with Roman ...</td>\n",
       "      <td>5.2</td>\n",
       "      <td>446</td>\n",
       "      <td>$ 45000</td>\n",
       "      <td>NaN</td>\n",
       "      <td>NaN</td>\n",
       "      <td>NaN</td>\n",
       "      <td>25.0</td>\n",
       "      <td>3.0</td>\n",
       "    </tr>\n",
       "    <tr>\n",
       "      <th>4</th>\n",
       "      <td>tt0002130</td>\n",
       "      <td>L'Inferno</td>\n",
       "      <td>L'Inferno</td>\n",
       "      <td>1911</td>\n",
       "      <td>1911-03-06</td>\n",
       "      <td>Adventure, Drama, Fantasy</td>\n",
       "      <td>68</td>\n",
       "      <td>Italy</td>\n",
       "      <td>Italian</td>\n",
       "      <td>Francesco Bertolini, Adolfo Padovan</td>\n",
       "      <td>...</td>\n",
       "      <td>Salvatore Papa, Arturo Pirovano, Giuseppe de L...</td>\n",
       "      <td>Loosely adapted from Dante's Divine Comedy and...</td>\n",
       "      <td>7.0</td>\n",
       "      <td>2237</td>\n",
       "      <td>NaN</td>\n",
       "      <td>NaN</td>\n",
       "      <td>NaN</td>\n",
       "      <td>NaN</td>\n",
       "      <td>31.0</td>\n",
       "      <td>14.0</td>\n",
       "    </tr>\n",
       "  </tbody>\n",
       "</table>\n",
       "<p>5 rows × 22 columns</p>\n",
       "</div>"
      ],
      "text/plain": [
       "  imdb_title_id                        title               original_title  \\\n",
       "0     tt0000009                   Miss Jerry                   Miss Jerry   \n",
       "1     tt0000574  The Story of the Kelly Gang  The Story of the Kelly Gang   \n",
       "2     tt0001892               Den sorte drøm               Den sorte drøm   \n",
       "3     tt0002101                    Cleopatra                    Cleopatra   \n",
       "4     tt0002130                    L'Inferno                    L'Inferno   \n",
       "\n",
       "   year date_published                      genre  duration           country  \\\n",
       "0  1894     1894-10-09                    Romance        45               USA   \n",
       "1  1906     1906-12-26    Biography, Crime, Drama        70         Australia   \n",
       "2  1911     1911-08-19                      Drama        53  Germany, Denmark   \n",
       "3  1912     1912-11-13             Drama, History       100               USA   \n",
       "4  1911     1911-03-06  Adventure, Drama, Fantasy        68             Italy   \n",
       "\n",
       "  language                             director  ...  \\\n",
       "0     None                      Alexander Black  ...   \n",
       "1     None                         Charles Tait  ...   \n",
       "2      NaN                            Urban Gad  ...   \n",
       "3  English                   Charles L. Gaskill  ...   \n",
       "4  Italian  Francesco Bertolini, Adolfo Padovan  ...   \n",
       "\n",
       "                                              actors  \\\n",
       "0  Blanche Bayliss, William Courtenay, Chauncey D...   \n",
       "1  Elizabeth Tait, John Tait, Norman Campbell, Be...   \n",
       "2  Asta Nielsen, Valdemar Psilander, Gunnar Helse...   \n",
       "3  Helen Gardner, Pearl Sindelar, Miss Fielding, ...   \n",
       "4  Salvatore Papa, Arturo Pirovano, Giuseppe de L...   \n",
       "\n",
       "                                         description avg_vote votes   budget  \\\n",
       "0  The adventures of a female reporter in the 1890s.      5.9   154      NaN   \n",
       "1  True story of notorious Australian outlaw Ned ...      6.1   589   $ 2250   \n",
       "2  Two men of high rank are both wooing the beaut...      5.8   188      NaN   \n",
       "3  The fabled queen of Egypt's affair with Roman ...      5.2   446  $ 45000   \n",
       "4  Loosely adapted from Dante's Divine Comedy and...      7.0  2237      NaN   \n",
       "\n",
       "   usa_gross_income worlwide_gross_income metascore reviews_from_users  \\\n",
       "0               NaN                   NaN       NaN                1.0   \n",
       "1               NaN                   NaN       NaN                7.0   \n",
       "2               NaN                   NaN       NaN                5.0   \n",
       "3               NaN                   NaN       NaN               25.0   \n",
       "4               NaN                   NaN       NaN               31.0   \n",
       "\n",
       "   reviews_from_critics  \n",
       "0                   2.0  \n",
       "1                   7.0  \n",
       "2                   2.0  \n",
       "3                   3.0  \n",
       "4                  14.0  \n",
       "\n",
       "[5 rows x 22 columns]"
      ]
     },
     "execution_count": 2,
     "metadata": {},
     "output_type": "execute_result"
    }
   ],
   "source": [
    "allMovies = pd.read_csv(\"IMDb Movies.csv\")\n",
    "print(allMovies.shape)\n",
    "allMovies.head()"
   ]
  },
  {
   "cell_type": "code",
   "execution_count": 3,
   "metadata": {},
   "outputs": [
    {
     "name": "stdout",
     "output_type": "stream",
     "text": [
      "<class 'pandas.core.frame.DataFrame'>\n",
      "RangeIndex: 85855 entries, 0 to 85854\n",
      "Data columns (total 22 columns):\n",
      "imdb_title_id            85855 non-null object\n",
      "title                    85855 non-null object\n",
      "original_title           85855 non-null object\n",
      "year                     85855 non-null object\n",
      "date_published           85855 non-null object\n",
      "genre                    85855 non-null object\n",
      "duration                 85855 non-null int64\n",
      "country                  85791 non-null object\n",
      "language                 85022 non-null object\n",
      "director                 85768 non-null object\n",
      "writer                   84283 non-null object\n",
      "production_company       81400 non-null object\n",
      "actors                   85786 non-null object\n",
      "description              83740 non-null object\n",
      "avg_vote                 85855 non-null float64\n",
      "votes                    85855 non-null int64\n",
      "budget                   23710 non-null object\n",
      "usa_gross_income         15326 non-null object\n",
      "worlwide_gross_income    31016 non-null object\n",
      "metascore                13305 non-null float64\n",
      "reviews_from_users       78258 non-null float64\n",
      "reviews_from_critics     74058 non-null float64\n",
      "dtypes: float64(4), int64(2), object(16)\n",
      "memory usage: 14.4+ MB\n"
     ]
    }
   ],
   "source": [
    "allMovies.info()"
   ]
  },
  {
   "cell_type": "markdown",
   "metadata": {},
   "source": [
    "Dropping the entries with no description."
   ]
  },
  {
   "cell_type": "code",
   "execution_count": 4,
   "metadata": {},
   "outputs": [
    {
     "name": "stdout",
     "output_type": "stream",
     "text": [
      "<class 'pandas.core.frame.DataFrame'>\n",
      "Int64Index: 83740 entries, 0 to 85854\n",
      "Data columns (total 22 columns):\n",
      "imdb_title_id            83740 non-null object\n",
      "title                    83740 non-null object\n",
      "original_title           83740 non-null object\n",
      "year                     83740 non-null object\n",
      "date_published           83740 non-null object\n",
      "genre                    83740 non-null object\n",
      "duration                 83740 non-null int64\n",
      "country                  83676 non-null object\n",
      "language                 82926 non-null object\n",
      "director                 83657 non-null object\n",
      "writer                   82253 non-null object\n",
      "production_company       79524 non-null object\n",
      "actors                   83676 non-null object\n",
      "description              83740 non-null object\n",
      "avg_vote                 83740 non-null float64\n",
      "votes                    83740 non-null int64\n",
      "budget                   23383 non-null object\n",
      "usa_gross_income         15293 non-null object\n",
      "worlwide_gross_income    30270 non-null object\n",
      "metascore                13279 non-null float64\n",
      "reviews_from_users       76998 non-null float64\n",
      "reviews_from_critics     72909 non-null float64\n",
      "dtypes: float64(4), int64(2), object(16)\n",
      "memory usage: 14.7+ MB\n"
     ]
    }
   ],
   "source": [
    "allMovies = allMovies.dropna(subset = ['description'])\n",
    "allMovies.info()"
   ]
  },
  {
   "cell_type": "markdown",
   "metadata": {},
   "source": [
    "Counting the number of words in each description and analyzing the distribution."
   ]
  },
  {
   "cell_type": "code",
   "execution_count": 5,
   "metadata": {},
   "outputs": [
    {
     "data": {
      "text/plain": [
       "count    83740.000000\n",
       "mean        27.814808\n",
       "std          8.849126\n",
       "min          1.000000\n",
       "25%         21.000000\n",
       "50%         30.000000\n",
       "75%         34.000000\n",
       "max         79.000000\n",
       "Name: description_#words, dtype: float64"
      ]
     },
     "execution_count": 5,
     "metadata": {},
     "output_type": "execute_result"
    }
   ],
   "source": [
    "allMovies[\"description_#words\"] = [len(x.description.split()) for _, x in allMovies.iterrows()]\n",
    "allMovies[\"description_#words\"].describe()"
   ]
  },
  {
   "cell_type": "markdown",
   "metadata": {},
   "source": [
    "About 25% of our descriptions have less than 21 words. Obviously, they won't be proper inputs to the recommender system, as we can't depict much from such a small description of any podcast. \n",
    "<br>\n",
    "<br>\n",
    "*Here, I'm considering only those podcasts which have more than 15 words in their description.*"
   ]
  },
  {
   "cell_type": "code",
   "execution_count": 6,
   "metadata": {},
   "outputs": [
    {
     "data": {
      "text/plain": [
       "(74889, 23)"
      ]
     },
     "execution_count": 6,
     "metadata": {},
     "output_type": "execute_result"
    }
   ],
   "source": [
    "allMovies = allMovies[allMovies[\"description_#words\"] > 15]\n",
    "allMovies = allMovies.reset_index(drop=True)\n",
    "allMovies.shape"
   ]
  },
  {
   "cell_type": "markdown",
   "metadata": {},
   "source": [
    "**Segregating the dataset according to the genres.**"
   ]
  },
  {
   "cell_type": "code",
   "execution_count": 7,
   "metadata": {},
   "outputs": [],
   "source": [
    "action_df = allMovies[allMovies[\"genre\"].str.contains(\"Action\")]\n",
    "adventure_df = allMovies[allMovies[\"genre\"].str.contains(\"Adventure\")]\n",
    "animation_df = allMovies[allMovies[\"genre\"].str.contains(\"Animation\")]\n",
    "biography_df = allMovies[allMovies[\"genre\"].str.contains(\"Biography\")]\n",
    "comedy_df = allMovies[allMovies[\"genre\"].str.contains(\"Comedy\")]\n",
    "crime_df = allMovies[allMovies[\"genre\"].str.contains(\"Crime\")]\n",
    "documentary_df = allMovies[allMovies[\"genre\"].str.contains(\"Documentary\")]\n",
    "drama_df = allMovies[allMovies[\"genre\"].str.contains(\"Drama\")]\n",
    "family_df = allMovies[allMovies[\"genre\"].str.contains(\"Family\")]\n",
    "fantasy_df = allMovies[allMovies[\"genre\"].str.contains(\"Fantasy\")]\n",
    "filmnoir_df = allMovies[allMovies[\"genre\"].str.contains(\"Film-Noir\")]\n",
    "history_df = allMovies[allMovies[\"genre\"].str.contains(\"History\")]\n",
    "horror_df = allMovies[allMovies[\"genre\"].str.contains(\"Horror\")]\n",
    "music_df = allMovies[allMovies[\"genre\"].str.contains(\"Music,|Music \")]\n",
    "musical_df = allMovies[allMovies[\"genre\"].str.contains(\"Musical\")]\n",
    "mystery_df = allMovies[allMovies[\"genre\"].str.contains(\"Mystery\")]\n",
    "romance_df = allMovies[allMovies[\"genre\"].str.contains(\"Romance\")]\n",
    "scifi_df = allMovies[allMovies[\"genre\"].str.contains(\"Sci-Fi\")]\n",
    "sport_df = allMovies[allMovies[\"genre\"].str.contains(\"Sport\")]\n",
    "thriller_df = allMovies[allMovies[\"genre\"].str.contains(\"Thriller\")]\n",
    "war_df = allMovies[allMovies[\"genre\"].str.contains(\"War\")]\n",
    "western_df = allMovies[allMovies[\"genre\"].str.contains(\"Western\")]"
   ]
  },
  {
   "cell_type": "code",
   "execution_count": 8,
   "metadata": {},
   "outputs": [],
   "source": [
    "action_df = action_df.reset_index(drop=True)\n",
    "adventure_df = adventure_df.reset_index(drop=True)\n",
    "animation_df = animation_df.reset_index(drop=True)\n",
    "biography_df = biography_df.reset_index(drop=True)\n",
    "comedy_df = comedy_df.reset_index(drop=True)\n",
    "crime_df = crime_df.reset_index(drop=True)\n",
    "documentary_df = documentary_df.reset_index(drop=True)\n",
    "drama_df = drama_df.reset_index(drop=True)\n",
    "family_df = family_df.reset_index(drop=True)\n",
    "fantasy_df = fantasy_df.reset_index(drop=True)\n",
    "filmnoir_df = filmnoir_df.reset_index(drop=True)\n",
    "history_df = history_df.reset_index(drop=True)\n",
    "horror_df = horror_df.reset_index(drop=True)\n",
    "music_df = music_df.reset_index(drop=True)\n",
    "musical_df = musical_df.reset_index(drop=True)\n",
    "mystery_df = mystery_df.reset_index(drop=True)\n",
    "romance_df = romance_df.reset_index(drop=True)\n",
    "scifi_df = scifi_df.reset_index(drop=True)\n",
    "sport_df = sport_df.reset_index(drop=True)\n",
    "thriller_df = thriller_df.reset_index(drop=True)\n",
    "war_df = war_df.reset_index(drop=True)\n",
    "western_df = western_df.reset_index(drop=True)"
   ]
  },
  {
   "cell_type": "markdown",
   "metadata": {},
   "source": [
    "Storing the segregated datasets to the disk."
   ]
  },
  {
   "cell_type": "code",
   "execution_count": 10,
   "metadata": {},
   "outputs": [],
   "source": [
    "action_df.to_csv(\"datasets/action_df.csv\", index=False)\n",
    "adventure_df.to_csv(\"datasets/adventure_df.csv\", index=False)\n",
    "animation_df.to_csv(\"datasets/animation_df.csv\", index=False)\n",
    "biography_df.to_csv(\"datasets/biography_df.csv\", index=False)\n",
    "comedy_df.to_csv(\"datasets/comedy_df.csv\", index=False)\n",
    "crime_df.to_csv(\"datasets/crime_df.csv\", index=False)\n",
    "documentary_df.to_csv(\"datasets/documentary_df.csv\", index=False)\n",
    "drama_df.to_csv(\"datasets/drama_df.csv\", index=False)\n",
    "family_df.to_csv(\"datasets/family_df.csv\", index=False)\n",
    "fantasy_df.to_csv(\"datasets/fantasy_df.csv\", index=False)\n",
    "filmnoir_df.to_csv(\"datasets/filmnoir_df.csv\", index=False)\n",
    "history_df.to_csv(\"datasets/history_df.csv\", index=False)\n",
    "horror_df.to_csv(\"datasets/horror_df.csv\", index=False)\n",
    "music_df.to_csv(\"datasets/music_df.csv\", index=False)\n",
    "musical_df.to_csv(\"datasets/musical_df.csv\", index=False)\n",
    "mystery_df.to_csv(\"datasets/mystery_df.csv\", index=False)\n",
    "romance_df.to_csv(\"datasets/romance_df.csv\", index=False)\n",
    "scifi_df.to_csv(\"datasets/scifi_df.csv\", index=False)\n",
    "sport_df.to_csv(\"datasets/sport_df.csv\", index=False)\n",
    "thriller_df.to_csv(\"datasets/thriller_df.csv\", index=False)\n",
    "war_df.to_csv(\"datasets/war_df.csv\", index=False)\n",
    "western_df.to_csv(\"datasets/western_df.csv\", index=False)"
   ]
  },
  {
   "cell_type": "markdown",
   "metadata": {},
   "source": [
    "## Model Preparation and Score Generation"
   ]
  },
  {
   "cell_type": "markdown",
   "metadata": {},
   "source": [
    "Considering uni, bi and trigrams for Tf-Idf scores and declaring a generic function. Also defining a different model of just unigrams for the whole dataset of 75k movies.\n",
    "\n",
    "<br>\n",
    "Defining a modified cosine_similarity function, which is much faster compared to the cosine_similarity() function in sklearn.metrics, for getting the similarity scores."
   ]
  },
  {
   "cell_type": "code",
   "execution_count": 9,
   "metadata": {},
   "outputs": [],
   "source": [
    "tfidf_model = TfidfVectorizer(analyzer = 'word', ngram_range = (1,3), stop_words = 'english')\n",
    "tfidf_modelAll = TfidfVectorizer(analyzer = 'word', ngram_range = (1,1), stop_words = 'english')\n",
    "\n",
    "def model(df):\n",
    "    sparse_matrix = tfidf_model.fit_transform(df['description'])\n",
    "    return sparse_matrix\n",
    "\n",
    "def modelAll(df):\n",
    "    sparse_matrix = tfidf_modelAll.fit_transform(df['description'])\n",
    "    return sparse_matrix\n",
    "\n",
    "def cosine_similarities(mat):\n",
    "    col_normed_mat = pp.normalize(mat.tocsc(), axis=0)\n",
    "    return col_normed_mat.T * col_normed_mat"
   ]
  },
  {
   "cell_type": "markdown",
   "metadata": {},
   "source": [
    "Getting the sparse matrices for all the genres respectively."
   ]
  },
  {
   "cell_type": "code",
   "execution_count": 11,
   "metadata": {},
   "outputs": [],
   "source": [
    "action_sm = model(action_df)\n",
    "adventure_sm = model(adventure_df)\n",
    "animation_sm = model(animation_df)\n",
    "biography_sm = model(biography_df)\n",
    "comedy_sm = model(comedy_df)\n",
    "crime_sm = model(crime_df)\n",
    "documentary_sm = model(documentary_df)\n",
    "drama_sm = model(drama_df)\n",
    "family_sm = model(family_df)\n",
    "fantasy_sm = model(fantasy_df)\n",
    "filmnoir_sm = model(filmnoir_df)\n",
    "history_sm = model(history_df)\n",
    "horror_sm = model(horror_df)\n",
    "music_sm = model(music_df)\n",
    "musical_sm = model(musical_df)\n",
    "mystery_sm = model(mystery_df)\n",
    "romance_sm = model(romance_df)\n",
    "scifi_sm = model(scifi_df)\n",
    "sport_sm = model(sport_df)\n",
    "thriller_sm = model(thriller_df)\n",
    "war_sm = model(war_df)\n",
    "western_sm = model(western_df)"
   ]
  },
  {
   "cell_type": "code",
   "execution_count": 12,
   "metadata": {},
   "outputs": [],
   "source": [
    "all_sm = model(allMovies)"
   ]
  },
  {
   "cell_type": "markdown",
   "metadata": {},
   "source": [
    "Storing the sparse matrices to the disk."
   ]
  },
  {
   "cell_type": "code",
   "execution_count": 13,
   "metadata": {},
   "outputs": [],
   "source": [
    "scipy.sparse.save_npz(\"sparse_matrices/action_sm.npz\", action_sm)\n",
    "scipy.sparse.save_npz(\"sparse_matrices/adventure_sm.npz\", adventure_sm)\n",
    "scipy.sparse.save_npz(\"sparse_matrices/animation_sm.npz\", animation_sm)\n",
    "scipy.sparse.save_npz(\"sparse_matrices/biography_sm.npz\", biography_sm)\n",
    "scipy.sparse.save_npz(\"sparse_matrices/comedy_sm.npz\", comedy_sm)\n",
    "scipy.sparse.save_npz(\"sparse_matrices/crime_sm.npz\", crime_sm)\n",
    "scipy.sparse.save_npz(\"sparse_matrices/documentary_sm.npz\", documentary_sm)\n",
    "scipy.sparse.save_npz(\"sparse_matrices/drama_sm.npz\", drama_sm)\n",
    "scipy.sparse.save_npz(\"sparse_matrices/family_sm.npz\", family_sm)\n",
    "scipy.sparse.save_npz(\"sparse_matrices/fantasy_sm.npz\", fantasy_sm)\n",
    "scipy.sparse.save_npz(\"sparse_matrices/filmnoir_sm.npz\", filmnoir_sm)\n",
    "scipy.sparse.save_npz(\"sparse_matrices/history_sm.npz\", history_sm)\n",
    "scipy.sparse.save_npz(\"sparse_matrices/horror_sm.npz\", horror_sm)\n",
    "scipy.sparse.save_npz(\"sparse_matrices/music_sm.npz\", music_sm)\n",
    "scipy.sparse.save_npz(\"sparse_matrices/musical_sm.npz\", musical_sm)\n",
    "scipy.sparse.save_npz(\"sparse_matrices/mystery_sm.npz\", mystery_sm)\n",
    "scipy.sparse.save_npz(\"sparse_matrices/romance_sm.npz\", romance_sm)\n",
    "scipy.sparse.save_npz(\"sparse_matrices/scifi_sm.npz\", scifi_sm)\n",
    "scipy.sparse.save_npz(\"sparse_matrices/sport_sm.npz\", sport_sm)\n",
    "scipy.sparse.save_npz(\"sparse_matrices/thriller_sm.npz\", thriller_sm)\n",
    "scipy.sparse.save_npz(\"sparse_matrices/war_sm.npz\", war_sm)\n",
    "scipy.sparse.save_npz(\"sparse_matrices/western_sm.npz\", western_sm)\n",
    "scipy.sparse.save_npz(\"sparse_matrices/all_sm.npz\", all_sm)"
   ]
  },
  {
   "cell_type": "markdown",
   "metadata": {},
   "source": [
    "## Testing"
   ]
  },
  {
   "cell_type": "markdown",
   "metadata": {},
   "source": [
    "Choosing just 3 genres for now, and finding the cosine similarity scores in the form of sparse matrices."
   ]
  },
  {
   "cell_type": "code",
   "execution_count": 14,
   "metadata": {},
   "outputs": [],
   "source": [
    "drama_sm = scipy.sparse.load_npz(\"sparse_matrices/drama_sm.npz\")\n",
    "animation_sm = scipy.sparse.load_npz(\"sparse_matrices/animation_sm.npz\")\n",
    "scifi_sm = scipy.sparse.load_npz(\"sparse_matrices/scifi_sm.npz\")"
   ]
  },
  {
   "cell_type": "code",
   "execution_count": 15,
   "metadata": {},
   "outputs": [],
   "source": [
    "drama_sp = cosine_similarities(drama_sm.T)\n",
    "animation_sp = cosine_similarities(animation_sm.T)\n",
    "scifi_sp = cosine_similarities(scifi_sm.T)"
   ]
  },
  {
   "cell_type": "markdown",
   "metadata": {},
   "source": [
    "A generic funtion for getting recommendations."
   ]
  },
  {
   "cell_type": "code",
   "execution_count": 16,
   "metadata": {},
   "outputs": [],
   "source": [
    "def give_recommendations(df, sim_mat, mov_name):\n",
    "    movie = df[df.original_title == mov_name].index[0]\n",
    "    scores = sim_mat[movie].toarray()\n",
    "    index_recomm = scores.T.argsort(axis=0)[-11:-1]\n",
    "    \n",
    "    print(\"Original Description: \",df.description[movie],\"\\n\")\n",
    "\n",
    "    for i in np.flipud(index_recomm):\n",
    "        print(\"Score: \",scores.T[i][0],\"\\t Title: \",df.title[i[0]])\n",
    "        print(\"IMDb Title ID: \",df.imdb_title_id[i[0]])\n",
    "        print(df.description[i[0]],\"\\n\")"
   ]
  },
  {
   "cell_type": "code",
   "execution_count": 17,
   "metadata": {},
   "outputs": [
    {
     "name": "stdout",
     "output_type": "stream",
     "text": [
      "Original Description:  Simmba, a Corrupt Officer, enjoys all the perks of being an immoral and unethical police officer until a life-changing event forces him to choose the righteous path. \n",
      "\n",
      "Score:  [0.11642789] \t Title:  Lipstikka\n",
      "IMDb Title ID:  tt1374988\n",
      "Two women reunite in London, where they go over the details of a life-changing event which occurred when they were teenagers in Jerusalem. \n",
      "\n",
      "Score:  [0.09896578] \t Title:  Ayogya\n",
      "IMDb Title ID:  tt9304360\n",
      "A corrupt police officer finds his life changing when he takes on a case of gang rape. \n",
      "\n",
      "Score:  [0.09312665] \t Title:  Little Birds\n",
      "IMDb Title ID:  tt1623745\n",
      "Lily and Alison face a life-changing event after they leave their Salton Sea home and follow the boys they meet back to Los Angeles. \n",
      "\n",
      "Score:  [0.09086234] \t Title:  Temper\n",
      "IMDb Title ID:  tt4442758\n",
      "Daya, a corrupt police officer, finds his life changing when he takes on a case of gang rape. \n",
      "\n",
      "Score:  [0.07739576] \t Title:  Destined\n",
      "IMDb Title ID:  tt2515456\n",
      "Destined tells the parallel stories of Sheed and Rasheed the same actor played by (Cory Hardrict) as they explore the idea of destiny as well as how the smallest incident can manifest itself into a life changing event. \n",
      "\n",
      "Score:  [0.06580297] \t Title:  Fugly\n",
      "IMDb Title ID:  tt3683702\n",
      "Four friends fight against a corrupt police officer who extorts money from them for not framing them in a murder which the officer committed himself. \n",
      "\n",
      "Score:  [0.06092662] \t Title:  Botongsaram\n",
      "IMDb Title ID:  tt6857282\n",
      "An up-righteous police officer with a wife and son gets involved with a conspiracy after he arrested a murderer by chance. His weakness was his son needed an operation to treat his legs. Which path to choose? Righteousness or conspiracy? \n",
      "\n",
      "Score:  [0.05486689] \t Title:  Gardish\n",
      "IMDb Title ID:  tt0106986\n",
      "A soon-to-be police officer takes a path of crime after his father gets attacked by hoodlums. \n",
      "\n",
      "Score:  [0.04920737] \t Title:  Patthar Ke Phool\n",
      "IMDb Title ID:  tt0102645\n",
      "A young police officer and the daughter of a gangster fall in love at first sight. \n",
      "\n",
      "Score:  [0.04666424] \t Title:  Hero\n",
      "IMDb Title ID:  tt0123102\n",
      "After his friend is imprisoned, a hitman kidnaps the daughter of the police commissioner by telling her that he is a police officer. \n",
      "\n"
     ]
    }
   ],
   "source": [
    "give_recommendations(drama_df, drama_sp, \"Simmba\")"
   ]
  },
  {
   "cell_type": "code",
   "execution_count": 18,
   "metadata": {},
   "outputs": [
    {
     "name": "stdout",
     "output_type": "stream",
     "text": [
      "Original Description:  When the newly crowned Queen Elsa accidentally uses her power to turn things into ice to curse her home in infinite winter, her sister Anna teams up with a mountain man, his playful reindeer, and a snowman to change the weather condition. \n",
      "\n",
      "Score:  [0.04876863] \t Title:  Norm of the North: Keys to the Kingdom\n",
      "IMDb Title ID:  tt7913394\n",
      "Norm, the newly crowned polar bear king of the arctic, must save New York City and his home. But Norm goes from hero to villain when he's framed for a crime he didn't commit. He must work ... \n",
      "\n",
      "Score:  [0.04215783] \t Title:  Frozen II - Il segreto di Arendelle\n",
      "IMDb Title ID:  tt4520988\n",
      "Anna, Elsa, Kristoff, Olaf and Sven leave Arendelle to travel to an ancient, autumn-bound forest of an enchanted land. They set out to find the origin of Elsa's powers in order to save their kingdom. \n",
      "\n",
      "Score:  [0.03536353] \t Title:  Howard Lovecraft and the Frozen Kingdom\n",
      "IMDb Title ID:  tt4768656\n",
      "After visiting his father in Arkham Sanitarium, young Howard Lovecraft accidentally uses the legendary Necronomicon to open a portal to a strange frozen world filled with horrifying creatures and a great adventure. \n",
      "\n",
      "Score:  [0.03306119] \t Title:  Muumien taikatalvi\n",
      "IMDb Title ID:  tt6315872\n",
      "Moomintroll decides to stay awake to explore the winter instead of having his winter slumber as usual. Winter is certainly totally different than he had imagined. \n",
      "\n",
      "Score:  [0.0308945] \t Title:  Drôles de petites bêtes\n",
      "IMDb Title ID:  tt6314766\n",
      "When his beloved Queen bee Marguerite is kidnapped, vagabond cricket Apollo who has been framed for the crime, teams up with the other bugs to save the Queen and the entire kingdom. \n",
      "\n",
      "Score:  [0.02534576] \t Title:  Niko - Una renna per amico\n",
      "IMDb Title ID:  tt0885415\n",
      "A young reindeer who suffers from vertigo learns to overcome his fear, takes flying lessons from a clumsy flying squirrel and heads to the North pole to save a troubled Santa and his fleet of flying reindeer. \n",
      "\n",
      "Score:  [0.02482125] \t Title:  Die Schelme von Schelm\n",
      "IMDb Title ID:  tt0114349\n",
      "When God distributed wiseness and foolishness through a newly created world, one of the cherubs accidentally dropped all the foolishness on a tiny village called Chelm. So everyone in the ... \n",
      "\n",
      "Score:  [0.0233414] \t Title:  The Snow Queen\n",
      "IMDb Title ID:  tt0348060\n",
      "Tom (Damian Hunt) and his sister Ellie (Ellie Beaven) live in an ordinary town leading ordinary lives but not for long. Far away, in her vast ice palace, the Snow Queen (Dame Helen Mirren) ... \n",
      "\n",
      "Score:  [0.02308099] \t Title:  The Snow Queen's Revenge\n",
      "IMDb Title ID:  tt0348059\n",
      "The Snow Queen holds Ellie responsible for ruining her plans to freeze the world and sets out to seek revenge. She kidnaps Dimly the flying reindeer and once again Ellie and her friend ... \n",
      "\n",
      "Score:  [0.02291407] \t Title:  Eve no jikan\n",
      "IMDb Title ID:  tt1715210\n",
      "In a not too distant future, a young man's outlook on his home android begins to change after tracking the android's behavioral log to a mysterious cafe. \n",
      "\n"
     ]
    }
   ],
   "source": [
    "give_recommendations(animation_df, animation_sp, \"Frozen\")"
   ]
  },
  {
   "cell_type": "code",
   "execution_count": 19,
   "metadata": {
    "scrolled": false
   },
   "outputs": [
    {
     "name": "stdout",
     "output_type": "stream",
     "text": [
      "Original Description:  A team of explorers travel through a wormhole in space in an attempt to ensure humanity's survival. \n",
      "\n",
      "Score:  [0.06204962] \t Title:  Ritorno dal futuro\n",
      "IMDb Title ID:  tt0108342\n",
      "During the unstoppable alien invasion of 2022, one man flees through a wormhole to 1992 in hope of changing the future. But attempt after attempt is made by someone there to catch and kill him. \n",
      "\n",
      "Score:  [0.05114115] \t Title:  La fine del mondo\n",
      "IMDb Title ID:  tt1213663\n",
      "Five friends who reunite in an attempt to top their epic pub crawl from twenty years earlier unwittingly become humanity's only hope for survival. \n",
      "\n",
      "Score:  [0.04710461] \t Title:  The Beyond\n",
      "IMDb Title ID:  tt5723416\n",
      "After observing an anomaly in space, scientists transplant human brains in to synthetic bodies and send them through the wormhole. \n",
      "\n",
      "Score:  [0.0378474] \t Title:  The Last Days on Mars\n",
      "IMDb Title ID:  tt1709143\n",
      "A group of astronaut explorers succumb one by one to a mysterious and terrifying force while collecting specimens on Mars. \n",
      "\n",
      "Score:  [0.03661301] \t Title:  Fire Maidens from Outer Space\n",
      "IMDb Title ID:  tt0046977\n",
      "A team of astronauts lands on a moon of Jupiter to find it populated with beautiful young women looking for mates. An old man explains to the explorers the group's story, as well as the moon's dangers. \n",
      "\n",
      "Score:  [0.03606885] \t Title:  Jurassic Galaxy\n",
      "IMDb Title ID:  tt8783146\n",
      "In the near future, a ship of space explorers crash land on an unknown planet. They're soon met with some of their worst fears as they discover the planet is inhabited by monstrous dinosaurs. \n",
      "\n",
      "Score:  [0.03362946] \t Title:  Cave Women on Mars\n",
      "IMDb Title ID:  tt1043719\n",
      "It is the future. 1987. Great scientific advances have allowed mankind to achieve that which previously only existed in speculative fiction -- space travel. But, on the eve of humanity's ... \n",
      "\n",
      "Score:  [0.0316532] \t Title:  Terminator 3 - Le macchine ribelli\n",
      "IMDb Title ID:  tt0181852\n",
      "A machine from a post-apocalyptic future travels back in time to protect a man and a woman from an advanced robotic assassin to ensure they both survive a nuclear attack. \n",
      "\n",
      "Score:  [0.02992856] \t Title:  Segon origen\n",
      "IMDb Title ID:  tt1382727\n",
      "Alba (age 20) and Dídac (age 10) are the only survivors of a catastrophe that has devastated the planet. Their survival will mark a new beginning for humanity. \n",
      "\n",
      "Score:  [0.02782376] \t Title:  Aditya 369\n",
      "IMDb Title ID:  tt0252196\n",
      "A group of children use a time machine to investigate a robbery. The protagonist couple, in their attempt to rescue the kids, get stuck in the machine and travel all the way back to the ... \n",
      "\n"
     ]
    }
   ],
   "source": [
    "give_recommendations(scifi_df, scifi_sp, \"Interstellar\")"
   ]
  },
  {
   "cell_type": "markdown",
   "metadata": {},
   "source": [
    "***The recommendations look quite accurate, as per the description of the chosen movie. So, we can proceed with the deployment.***"
   ]
  },
  {
   "cell_type": "markdown",
   "metadata": {},
   "source": [
    "## Thank You"
   ]
  }
 ],
 "metadata": {
  "kernelspec": {
   "display_name": "Python 3",
   "language": "python",
   "name": "python3"
  },
  "language_info": {
   "codemirror_mode": {
    "name": "ipython",
    "version": 3
   },
   "file_extension": ".py",
   "mimetype": "text/x-python",
   "name": "python",
   "nbconvert_exporter": "python",
   "pygments_lexer": "ipython3",
   "version": "3.7.3"
  }
 },
 "nbformat": 4,
 "nbformat_minor": 2
}
